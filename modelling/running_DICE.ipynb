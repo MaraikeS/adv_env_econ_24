{
 "cells": [
  {
   "cell_type": "markdown",
   "metadata": {},
   "source": [
    "# Running DICE\n",
    "\n",
    "In this notebook, we are going to do the following things:\n",
    "\n",
    "1. Activate a Julia environment in our `adv_env_econ_24/modelling` folder\n",
    "2. Make sure that the right packages are installed\n",
    "3. Import the packages `Mimi` and `MimiDICE2016R2`\n",
    "4. Build the standard baseline DICE model\n",
    "5. Explore the baseline DICE model in an interactive window"
   ]
  },
  {
   "cell_type": "markdown",
   "metadata": {},
   "source": [
    "## 1. Activate Julia environment \"modelling\""
   ]
  },
  {
   "cell_type": "code",
   "execution_count": 1,
   "metadata": {},
   "outputs": [
    {
     "name": "stderr",
     "output_type": "stream",
     "text": [
      "\u001b[32m\u001b[1m  Activating\u001b[22m\u001b[39m project at `c:\\Users\\marai\\OneDrive\\Dokumente\\Master\\Masterarbeit\\adv_env_econ_24\\modelling`\n"
     ]
    }
   ],
   "source": [
    "using Pkg\n",
    "Pkg.activate(\".\") # activate the current environment"
   ]
  },
  {
   "cell_type": "markdown",
   "metadata": {},
   "source": [
    "## 2. Check which packages are installed in \"modelling\""
   ]
  },
  {
   "cell_type": "code",
   "execution_count": 2,
   "metadata": {},
   "outputs": [
    {
     "name": "stdout",
     "output_type": "stream",
     "text": [
      "\u001b[32m\u001b[1mStatus\u001b[22m\u001b[39m `C:\\Users\\marai\\OneDrive\\Dokumente\\Master\\Masterarbeit\\adv_env_econ_24\\modelling\\Project.toml`\n",
      "  \u001b[90m[336ed68f] \u001b[39mCSV v0.10.14\n",
      "  \u001b[90m[a93c6f00] \u001b[39mDataFrames v1.6.1\n",
      "  \u001b[90m[31c24e10] \u001b[39mDistributions v0.25.109\n",
      "  \u001b[90m[b964fa9f] \u001b[39mLaTeXStrings v1.3.1\n",
      "  \u001b[90m[e4e893b0] \u001b[39mMimi v1.5.3\n",
      "  \u001b[90m[f1883be1] \u001b[39mMimiDICE2016R2 v0.1.1-DEV `https://github.com/anthofflab/MimiDICE2016R2.jl#master`\n",
      "  \u001b[90m[91a5bcdd] \u001b[39mPlots v1.40.5\n",
      "  \u001b[90m[76f85450] \u001b[39mLibGit2\n"
     ]
    }
   ],
   "source": [
    "Pkg.status()"
   ]
  },
  {
   "cell_type": "markdown",
   "metadata": {},
   "source": [
    "Compile all the packages:"
   ]
  },
  {
   "cell_type": "code",
   "execution_count": 3,
   "metadata": {},
   "outputs": [],
   "source": [
    "Pkg.instantiate()"
   ]
  },
  {
   "cell_type": "markdown",
   "metadata": {},
   "source": [
    "For the first time running this notebook, you may need to manually install MimiDICE2016R2 with the following command:"
   ]
  },
  {
   "cell_type": "code",
   "execution_count": 4,
   "metadata": {},
   "outputs": [
    {
     "name": "stderr",
     "output_type": "stream",
     "text": [
      "\u001b[32m\u001b[1m    Updating\u001b[22m\u001b[39m git-repo `https://github.com/anthofflab/MimiDICE2016R2.jl`\n",
      "\u001b[32m\u001b[1m   Resolving\u001b[22m\u001b[39m package versions...\n",
      "\u001b[32m\u001b[1m  No Changes\u001b[22m\u001b[39m to `C:\\Users\\marai\\OneDrive\\Dokumente\\Master\\Masterarbeit\\adv_env_econ_24\\modelling\\Project.toml`\n",
      "\u001b[32m\u001b[1m  No Changes\u001b[22m\u001b[39m to `C:\\Users\\marai\\OneDrive\\Dokumente\\Master\\Masterarbeit\\adv_env_econ_24\\modelling\\Manifest.toml`\n"
     ]
    }
   ],
   "source": [
    "Pkg.add(url=\"https://github.com/anthofflab/MimiDICE2016R2.jl\")"
   ]
  },
  {
   "cell_type": "markdown",
   "metadata": {},
   "source": [
    "## 3. Import the packages "
   ]
  },
  {
   "cell_type": "code",
   "execution_count": 5,
   "metadata": {},
   "outputs": [],
   "source": [
    "using Mimi\n",
    "using MimiDICE2016R2"
   ]
  },
  {
   "cell_type": "markdown",
   "metadata": {},
   "source": [
    "## 4. Build the baseline DICE model"
   ]
  },
  {
   "cell_type": "code",
   "execution_count": 6,
   "metadata": {},
   "outputs": [
    {
     "data": {
      "text/plain": [
       "Mimi.Model\n",
       "  Module: Mimi\n",
       "  Components:\n",
       "    ComponentId(MimiDICE2016R2.totalfactorproductivity)\n",
       "    ComponentId(MimiDICE2016R2.grosseconomy)\n",
       "    ComponentId(MimiDICE2016R2.emissions)\n",
       "    ComponentId(MimiDICE2016R2.co2cycle)\n",
       "    ComponentId(MimiDICE2016R2.radiativeforcing)\n",
       "    ComponentId(MimiDICE2016R2.climatedynamics)\n",
       "    ComponentId(MimiDICE2016R2.damages)\n",
       "    ComponentId(MimiDICE2016R2.neteconomy)\n",
       "    ComponentId(MimiDICE2016R2.welfare)\n",
       "  Built: true\n"
      ]
     },
     "metadata": {},
     "output_type": "display_data"
    }
   ],
   "source": [
    "m = MimiDICE2016R2.get_model()\n",
    "run(m)\n",
    "m"
   ]
  },
  {
   "cell_type": "markdown",
   "metadata": {},
   "source": [
    "## 5. Explore the results"
   ]
  },
  {
   "cell_type": "code",
   "execution_count": 7,
   "metadata": {},
   "outputs": [
    {
     "name": "stdout",
     "output_type": "stream",
     "text": [
      "\n"
     ]
    },
    {
     "data": {
      "text/plain": [
       "Electron.Window(Application(Base.PipeEndpoint(Base.Libc.WindowsRawSocket(0x0000000000000acc) open, 0 bytes waiting), Process(setenv(`\u001b[4m'C:\\Users\\marai\\.julia\\artifacts\\397a0a9fb9e18e9c02b63a015adeadcaf37ff245\\electron.exe'\u001b[24m \u001b[4m'C:\\Users\\marai\\.julia\\packages\\Electron\\LXyZ0\\src\\main.js'\u001b[24m \u001b[4m'\\\\.\\pipe\\jlel-3dd089a0563f11ef35c2676f8f061d44'\u001b[24m \u001b[4m'\\\\.\\pipe\\jlel-sn-3dd0b0b0563f11ef3782ab44a3ede7cf'\u001b[24m \u001b[4mO6Jy4zhgihxbHbJS5+8OlGZ4QrE8Ju3ASZWPGrkINglfzkAL++7zyh4Mw2cjGC6hV9XonR2E+uaoEGOXBGC1kFlJBt2mvY2SQHOlZqck/Vk8JseQlkTUDN4k3KnjeYtBpevz41Zg1gb2m+POx8K60LDV5HfnM4WaEp1BBd8nGnA=\u001b[24m`,[\"WINDIR=C:\\\\WINDOWS\", \"PATH=C:\\\\WINDOWS\\\\system32;C:\\\\WINDOWS;C:\\\\WINDOWS\\\\System32\\\\Wbem;C:\\\\WINDOWS\\\\System32\\\\WindowsPowerShell\\\\v1.0\\\\;C:\\\\WINDOWS\\\\System32\\\\OpenSSH\\\\;C:\\\\Program Files (x86)\\\\Common Files\\\\Adobe\\\\AGL;C:\\\\Program Files\\\\Git\\\\cmd;C:\\\\WINDOWS\\\\system32;C:\\\\WINDOWS;C:\\\\WINDOWS\\\\System32\\\\Wbem;C:\\\\WINDOWS\\\\System32\\\\WindowsPowerShell\\\\v1.0\\\\;C:\\\\WINDOWS\\\\System32\\\\OpenSSH\\\\;C:\\\\Program Files (x86)\\\\Common Files\\\\Adobe\\\\AGL;C:\\\\Program Files\\\\Git\\\\cmd;C:\\\\Users\\\\marai\\\\AppData\\\\Local\\\\Programs\\\\Quarto\\\\bin;C:\\\\Users\\\\marai\\\\AppData\\\\Local\\\\Microsoft\\\\WindowsApps;C:\\\\Users\\\\marai\\\\AppData\\\\Local\\\\Turbo\\\\Cmd\\\\;C:\\\\ProgramData\\\\marai\\\\GitHubDesktop\\\\bin;C:\\\\Users\\\\marai\\\\AppData\\\\Local\\\\Programs\\\\Microsoft VS Code\\\\bin\", \"USERDOMAIN_ROAMINGPROFILE=LAPTOP-1S000V3T\", \"VSCODE_CODE_CACHE_PATH=C:\\\\Users\\\\marai\\\\AppData\\\\Roaming\\\\Code\\\\CachedData\\\\b1c0a14de1414fcdaa400695b4db1c0799bc3124\", \"LOCALAPPDATA=C:\\\\Users\\\\marai\\\\AppData\\\\Local\", \"HOMEPATH=\\\\Users\\\\marai\", \"VSCODE_NLS_CONFIG={\\\"userLocale\\\":\\\"en-us\\\",\\\"osLocale\\\":\\\"de-de\\\",\\\"resolvedLanguage\\\":\\\"en\\\",\\\"defaultMessagesFile\\\":\\\"C:\\\\\\\\Users\\\\\\\\marai\\\\\\\\AppData\\\\\\\\Local\\\\\\\\Programs\\\\\\\\Microsoft VS Code\\\\\\\\resources\\\\\\\\app\\\\\\\\out\\\\\\\\nls.messages.json\\\",\\\"locale\\\":\\\"en\\\",\\\"availableLanguages\\\":{}}\", \"PROCESSOR_IDENTIFIER=AMD64 Family 23 Model 24 Stepping 1, AuthenticAMD\", \"NUMBER_OF_PROCESSORS=8\", \"VSCODE_PID=10964\"  …  \"DRIVERDATA=C:\\\\Windows\\\\System32\\\\Drivers\\\\DriverData\", \"ORIGINAL_XDG_CURRENT_DESKTOP=undefined\", \"USERPROFILE=C:\\\\Users\\\\marai\", \"PROCESSOR_LEVEL=23\", \"SYSTEMDRIVE=C:\", \"PROGRAMW6432=C:\\\\Program Files\", \"TEMP=C:\\\\Users\\\\marai\\\\AppData\\\\Local\\\\Temp\", \"HOMEDRIVE=C:\", \"OPENBLAS_MAIN_FREE=1\", \"PROCESSOR_ARCHITECTURE=AMD64\"]), ProcessRunning), [1 window]), 1, true, Channel{Any}(128))"
      ]
     },
     "metadata": {},
     "output_type": "display_data"
    }
   ],
   "source": [
    "explore(m)"
   ]
  }
 ],
 "metadata": {
  "kernelspec": {
   "display_name": "Julia 1.10.4",
   "language": "julia",
   "name": "julia-1.10"
  },
  "language_info": {
   "file_extension": ".jl",
   "mimetype": "application/julia",
   "name": "julia",
   "version": "1.10.4"
  }
 },
 "nbformat": 4,
 "nbformat_minor": 2
}
