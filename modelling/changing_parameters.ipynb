{
 "cells": [
  {
   "cell_type": "markdown",
   "metadata": {},
   "source": [
    "## Changing parameters in a Mimi model\n",
    "\n",
    "This is meant as a simple hands-on example that can be readily executed and adapted. More thorough documentation, explanation and examples can be found [here](https://www.mimiframework.org/Mimi.jl/stable/tutorials/tutorial_3/)."
   ]
  },
  {
   "cell_type": "code",
   "execution_count": null,
   "metadata": {},
   "outputs": [],
   "source": [
    "using Pkg;\n",
    "Pkg.activate(\".\") # activate the environment in the \"modelling\" folder\n",
    "Pkg.instantiate() # install the packages in the environment"
   ]
  },
  {
   "cell_type": "markdown",
   "metadata": {},
   "source": [
    "### 1. Modifying DICE parameters\n",
    "\n",
    "Let's start by changing something in the DICE model. Here's a table with parameters that might be worthwile playing around with:\n",
    "\n",
    "| Parameter symbol | Component | Name and meaning | Source code |\n",
    "| --- | --- | --- | --- | \n",
    "| `:a2` | `:damages` | quadratic coefficient of damage function| [&rarr;](https://github.com/felixschaumann/OptMimiDICE2016R2.jl/blob/main/src/components/damages_component.jl) |\n",
    "| `:t2xco2` | `:climatedynamics` | equilibrium climate sensitivity | [&rarr;](https://github.com/felixschaumann/OptMimiDICE2016R2.jl/blob/main/src/components/climatedynamics_component.jl) |\n",
    "| `:elasmu` | `:welfare` | elasticity of marginal utility of consumption | [&rarr;](https://github.com/felixschaumann/OptMimiDICE2016R2.jl/blob/main/src/components/welfare_component.jl) |\n",
    "| `:rr` | `:welfare` | social discount rate (factor?) | [&rarr;](https://github.com/felixschaumann/OptMimiDICE2016R2.jl/blob/main/src/components/welfare_component.jl) |\n",
    "\n",
    "Note that when you adapt a certain parameter and run the model again, all the model variables will update according to the new equations and parameter values, but the model will **not optimise welfare**! `MimiDICE2016R2` is a simulation model that does not feature optimisation. That is, it can be used to evaluate the SCC along a certain path, but it does not welfare-optimise. If you want to be able to optimise, check out the [`OptMimiDICE2016R2` package](https://github.com/felixschaumann/OptMimiDICE2016R2.jl)."
   ]
  },
  {
   "cell_type": "code",
   "execution_count": 1,
   "metadata": {},
   "outputs": [],
   "source": [
    "using Mimi\n",
    "using MimiDICE2016R2"
   ]
  },
  {
   "cell_type": "code",
   "execution_count": 2,
   "metadata": {},
   "outputs": [],
   "source": [
    "m_DICE = MimiDICE2016R2.get_model()\n",
    "run(m_DICE)"
   ]
  },
  {
   "cell_type": "markdown",
   "metadata": {},
   "source": [
    "`m_DICE` is a standard DICE model for which we can explore results with `explore(m_DICE)`. Before we do that, let's change some parameters."
   ]
  },
  {
   "cell_type": "code",
   "execution_count": 3,
   "metadata": {},
   "outputs": [
    {
     "data": {
      "text/plain": [
       "100-element Vector{Union{Missing, Float64}}:\n",
       "    0.8700933704697317\n",
       "    1.4810364421566184\n",
       "    2.3878518383878085\n",
       "    3.6833113466788383\n",
       "    5.475613749038234\n",
       "    7.888074585031499\n",
       "   11.05818951276641\n",
       "   15.13608488705448\n",
       "   20.282408210156422\n",
       "   26.66574135472514\n",
       "    ⋮\n",
       " 3937.0649850081945\n",
       " 3991.3852369663946\n",
       " 4040.791758544711\n",
       " 4086.4900549479926\n",
       " 4129.334696670338\n",
       " 4169.9332779923225\n",
       " 4208.718869189598\n",
       " 4246.000884959788\n",
       " 4282.000982461122"
      ]
     },
     "metadata": {},
     "output_type": "display_data"
    }
   ],
   "source": [
    "# Howard & Sterner damage specification including productivity effect\n",
    "update_param!(m_DICE, :damages, :a2, 0.01145)\n",
    "run(m_DICE)\n",
    "\n",
    "m_DICE[:damages, :DAMAGES]"
   ]
  },
  {
   "cell_type": "markdown",
   "metadata": {},
   "source": [
    "The last line, following the syntax `model[:component, :variable]`, let's you look at the vector of time steps of a certain variable. In this case, we can see, how the damages over time change after having altered a damage function parameter."
   ]
  },
  {
   "cell_type": "code",
   "execution_count": 4,
   "metadata": {},
   "outputs": [
    {
     "data": {
      "text/plain": [
       "100-element Vector{Union{Missing, Float64}}:\n",
       " 0.85\n",
       " 1.0163451840920545\n",
       " 1.189205773623509\n",
       " 1.3678107128004386\n",
       " 1.551456319943855\n",
       " 1.7394509386676342\n",
       " 1.931092168386334\n",
       " 2.1256628965081843\n",
       " 2.322437285797461\n",
       " 2.520691184073483\n",
       " ⋮\n",
       " 6.6072488696504825\n",
       " 6.597907890227782\n",
       " 6.588642708861447\n",
       " 6.5794515944405\n",
       " 6.570333459950364\n",
       " 6.561287497939146\n",
       " 6.552312978419538\n",
       " 6.543409143666289\n",
       " 6.534575159624617"
      ]
     },
     "metadata": {},
     "output_type": "display_data"
    }
   ],
   "source": [
    "# A particularly low climate sensitivity (normally around 3)\n",
    "update_param!(m_DICE, :climatedynamics, :t2xco2, 2)\n",
    "\n",
    "m_DICE[:climatedynamics, :TATM]"
   ]
  },
  {
   "cell_type": "code",
   "execution_count": 16,
   "metadata": {},
   "outputs": [
    {
     "data": {
      "text/plain": [
       "100-element Vector{Union{Missing, Float64}}:\n",
       " 0.85\n",
       " 0.9605512231646353\n",
       " 1.0775134673170186\n",
       " 1.19970203223599\n",
       " 1.3261359352238185\n",
       " 1.4559510648550629\n",
       " 1.5883558451183455\n",
       " 1.722611473610401\n",
       " 1.8580254784101915\n",
       " 1.9939517230297052\n",
       " ⋮\n",
       " 4.3204810385957515\n",
       " 4.313383047036012\n",
       " 4.306368017280178\n",
       " 4.299433256521963\n",
       " 4.2925769738068205\n",
       " 4.285797773028904\n",
       " 4.279094381726255\n",
       " 4.272465516846562\n",
       " 4.265909827812359"
      ]
     },
     "metadata": {},
     "output_type": "display_data"
    }
   ],
   "source": [
    "# A particular high climate sensitivity of 4\n",
    "update_param!(m_DICE, :climatedynamics, :t2xco2, 4)\n",
    "\n",
    "m_DICE[:climatedynamics, :TATM]"
   ]
  },
  {
   "cell_type": "markdown",
   "metadata": {},
   "source": [
    "Let's calculate the SCC. See [here](https://github.com/anthofflab/MimiDICE2016R2.jl?tab=readme-ov-file#calculating-the-social-cost-of-carbon)."
   ]
  },
  {
   "cell_type": "code",
   "execution_count": 17,
   "metadata": {},
   "outputs": [
    {
     "data": {
      "text/plain": [
       "120.37126881644173"
      ]
     },
     "metadata": {},
     "output_type": "display_data"
    }
   ],
   "source": [
    "# Get the social cost of carbon in year 2020 from the default MimiDICE2016R2 model:\n",
    "# Pure Rate of time Preference is 0.03, meaning that the utility in the future is dicounted by 3%\n",
    "scc = MimiDICE2016R2.compute_scc(m_DICE, year=2020, prtp=0.03)"
   ]
  },
  {
   "cell_type": "markdown",
   "metadata": {},
   "source": [
    "Now you can experiment which SCC values you get based on different parameters for the damage function, climate sensitivity, marginal elasticity of consumption, or the rate of pure time preference (`prtp` in the `compute_scc` function)."
   ]
  },
  {
   "cell_type": "code",
   "execution_count": 18,
   "metadata": {},
   "outputs": [
    {
     "data": {
      "text/plain": [
       "1366.4226366407513"
      ]
     },
     "metadata": {},
     "output_type": "display_data"
    }
   ],
   "source": [
    "# Get the social cost of carbon in year 2100 from the default MimiDICE2016R2 model:\n",
    "scc = MimiDICE2016R2.compute_scc(m_DICE, year=2100, prtp=0.03)"
   ]
  },
  {
   "cell_type": "code",
   "execution_count": 19,
   "metadata": {},
   "outputs": [
    {
     "data": {
      "text/plain": [
       "85048.57118330259"
      ]
     },
     "metadata": {},
     "output_type": "display_data"
    }
   ],
   "source": [
    "# Get the social cost of carbon with a pure rate of time preference of 0 (meaning that the utility of the future is valued just as much as the utility in the present) from the default MimiDICE2016R2 model in the year 20100:\n",
    "scc = MimiDICE2016R2.compute_scc(m_DICE, year=2100, prtp=0.00)"
   ]
  },
  {
   "cell_type": "markdown",
   "metadata": {},
   "source": [
    "One can conclude: The higher the Climate Sensitivity and the lower the PRTP the higher the SCC. That makes absolutly sense."
   ]
  },
  {
   "cell_type": "markdown",
   "metadata": {},
   "source": [
    "Let's change another paramter: The Elasticity of marginal utility of consumption"
   ]
  },
  {
   "cell_type": "code",
   "execution_count": 25,
   "metadata": {},
   "outputs": [
    {
     "data": {
      "text/plain": [
       "100-element Vector{Union{Missing, Float64}}:\n",
       " 0.44863518477148\n",
       " 0.48789141031006333\n",
       " 0.5236441549145197\n",
       " 0.5561796819149716\n",
       " 0.5857690150435622\n",
       " 0.6126611921831264\n",
       " 0.637081656759988\n",
       " 0.6592329791698304\n",
       " 0.6792965052073883\n",
       " 0.6974342563189733\n",
       " ⋮\n",
       " 0.8696437783108346\n",
       " 0.8741081196543277\n",
       " 0.8782793899988677\n",
       " 0.8822208021155236\n",
       " 0.8859761660958327\n",
       " 0.8895762836885224\n",
       " 0.8930431402641932\n",
       " 0.8963926955304269\n",
       " 0.8996367622972194"
      ]
     },
     "metadata": {},
     "output_type": "display_data"
    }
   ],
   "source": [
    "# The elasticity of marginal utility of consumption increases up to 1.7.\n",
    "update_param!(m_DICE, :welfare, :elasmu, 1.7)\n",
    "\n",
    "m_DICE[:welfare, :PERIODU]"
   ]
  },
  {
   "cell_type": "code",
   "execution_count": 24,
   "metadata": {},
   "outputs": [
    {
     "data": {
      "text/plain": [
       "100-element Vector{Union{Missing, Float64}}:\n",
       " 0.44863518477148\n",
       " 0.48789141031006333\n",
       " 0.5236441549145197\n",
       " 0.5561796819149716\n",
       " 0.5857690150435622\n",
       " 0.6126611921831264\n",
       " 0.637081656759988\n",
       " 0.6592329791698304\n",
       " 0.6792965052073883\n",
       " 0.6974342563189733\n",
       " ⋮\n",
       " 0.8696437783108346\n",
       " 0.8741081196543277\n",
       " 0.8782793899988677\n",
       " 0.8822208021155236\n",
       " 0.8859761660958327\n",
       " 0.8895762836885224\n",
       " 0.8930431402641932\n",
       " 0.8963926955304269\n",
       " 0.8996367622972194"
      ]
     },
     "metadata": {},
     "output_type": "display_data"
    }
   ],
   "source": [
    "#Originaly the elasticity of marginal utility of consumption is at 1.45.\n",
    "#Problem: NOTHING CHANGES: What is wrong?\n",
    "update_param!(m_DICE, :welfare, :elasmu, 1.45)\n",
    "\n",
    "m_DICE[:welfare, :PERIODU]"
   ]
  },
  {
   "cell_type": "markdown",
   "metadata": {
    "vscode": {
     "languageId": "julia"
    }
   },
   "source": [
    "### 2. Modifying META parameters"
   ]
  },
  {
   "cell_type": "markdown",
   "metadata": {},
   "source": [
    "Let's first go into the directory of the META-2021 model."
   ]
  },
  {
   "cell_type": "code",
   "execution_count": null,
   "metadata": {},
   "outputs": [],
   "source": [
    "cd(\"./META-2021/src\") # change directory\n",
    "include(\"../src/MimiMETA.jl\")"
   ]
  },
  {
   "cell_type": "code",
   "execution_count": null,
   "metadata": {},
   "outputs": [],
   "source": [
    "include(\"./META-2021/src/MimiMETA.jl\")"
   ]
  },
  {
   "cell_type": "markdown",
   "metadata": {
    "vscode": {
     "languageId": "julia"
    }
   },
   "source": [
    "Sometimes, it is necessary to run a simple `model` first. Seems to be a bug, but don't worry about ut."
   ]
  },
  {
   "cell_type": "code",
   "execution_count": null,
   "metadata": {},
   "outputs": [],
   "source": [
    "model = base_model();\n",
    "run(model);"
   ]
  },
  {
   "cell_type": "code",
   "execution_count": null,
   "metadata": {},
   "outputs": [],
   "source": [
    "m_base = base_model(rcp=\"RCP4.5\", ssp=\"SSP2\", tdamage=\"pointestimate\", slrdamage=\"mode\");\n",
    "run(m_base);\n",
    "\n",
    "m_full = full_model(rcp=\"RCP4.5\", ssp=\"SSP2\", tdamage=\"pointestimate\", slrdamage=\"mode\");\n",
    "run(m_full);"
   ]
  },
  {
   "cell_type": "code",
   "execution_count": null,
   "metadata": {},
   "outputs": [],
   "source": [
    "include(\"./META-2021/scc.jl\") # include the scc calculation file\n",
    "\n",
    "scc_base = calculate_scc(m_base, 2020, 10., 1.5) # year 2020, emissions pulse 10Gt CO2, elasticity of marginal utility 1.5\n",
    "scc_full = calculate_scc(m_full, 2020, 10., 1.5)"
   ]
  },
  {
   "cell_type": "markdown",
   "metadata": {},
   "source": [
    "Again, as in the case for DICE, you can try to vary parameters, look at the current parameter values with `model[:component, :parameter]`, and change them using `update_param!` and `run`. \n",
    "\n",
    "See more information on running the META model and calculating SCC values [here](https://github.com/openmodels/META-2021?tab=readme-ov-file#mimi-model)."
   ]
  }
 ],
 "metadata": {
  "kernelspec": {
   "display_name": "Julia 1.10.4",
   "language": "julia",
   "name": "julia-1.10"
  },
  "language_info": {
   "file_extension": ".jl",
   "mimetype": "application/julia",
   "name": "julia",
   "version": "1.10.4"
  }
 },
 "nbformat": 4,
 "nbformat_minor": 2
}
